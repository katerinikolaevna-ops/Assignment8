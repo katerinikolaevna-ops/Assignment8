{
 "cells": [
  {
   "cell_type": "code",
   "execution_count": null,
   "id": "3ebc6874-7e04-4f2f-90c0-f1e7d7737aba",
   "metadata": {},
   "outputs": [],
   "source": [
    "Task 1"
   ]
  },
  {
   "cell_type": "code",
   "execution_count": 1,
   "id": "f71de947-6c0a-443b-b973-1f6c3fadf4ae",
   "metadata": {},
   "outputs": [
    {
     "name": "stdout",
     "output_type": "stream",
     "text": [
      "The Zen of Python, by Tim Peters\n",
      "\n",
      "Beautiful is better than ugly.\n",
      "Explicit is better than implicit.\n",
      "Simple is better than complex.\n",
      "Complex is better than complicated.\n",
      "Flat is better than nested.\n",
      "Sparse is better than dense.\n",
      "Readability counts.\n",
      "Special cases aren't special enough to break the rules.\n",
      "Although practicality beats purity.\n",
      "Errors should never pass silently.\n",
      "Unless explicitly silenced.\n",
      "In the face of ambiguity, refuse the temptation to guess.\n",
      "There should be one-- and preferably only one --obvious way to do it.\n",
      "Although that way may not be obvious at first unless you're Dutch.\n",
      "Now is better than never.\n",
      "Although never is often better than *right* now.\n",
      "If the implementation is hard to explain, it's a bad idea.\n",
      "If the implementation is easy to explain, it may be a good idea.\n",
      "Namespaces are one honking great idea -- let's do more of those!\n"
     ]
    }
   ],
   "source": [
    "import this"
   ]
  },
  {
   "cell_type": "code",
   "execution_count": null,
   "id": "d1a0791c-7980-4b2e-939e-2c87b4d30569",
   "metadata": {},
   "outputs": [],
   "source": [
    "Task 2"
   ]
  },
  {
   "cell_type": "code",
   "execution_count": 20,
   "id": "ead2d719-1cee-45ff-b768-31bd9aaf4e4b",
   "metadata": {},
   "outputs": [
    {
     "name": "stdin",
     "output_type": "stream",
     "text": [
      "Enter your name:  Kate\n",
      "Enter your age:  22\n",
      "Enter your height (in meters):  1.57\n"
     ]
    }
   ],
   "source": [
    "# Input from the user\n",
    "name = input(\"Enter your name: \")\n",
    "age = int(input(\"Enter your age: \"))\n",
    "height = float(input(\"Enter your height (in meters): \"))"
   ]
  },
  {
   "cell_type": "code",
   "execution_count": 22,
   "id": "672670e5-9980-4952-be3f-56ba9246cfe2",
   "metadata": {},
   "outputs": [
    {
     "name": "stdout",
     "output_type": "stream",
     "text": [
      "Hello, Kate\n",
      "Integer number 22 Type <class 'int'>\n",
      "Floating-point number 6.56 Type <class 'float'>\n",
      "Complex number (5+7j) Type <class 'complex'>\n",
      "Boolean value True Type <class 'bool'>\n",
      "String Hello, Kate Type <class 'str'>\n"
     ]
    }
   ],
   "source": [
    "# Basic types\n",
    "integer_num = 22                # int\n",
    "float_num = 6.56                 # float\n",
    "complex_num = 5 + 7j             # complex\n",
    "is_student = True                # bool\n",
    "greeting = \"Hello, \" + name      # str\n",
    "print(greeting)\n",
    "print(\"Integer number\", integer_num, \"Type\", type(integer_num))\n",
    "print(\"Floating-point number\", float_num, \"Type\", type(float_num))\n",
    "print(\"Complex number\", complex_num, \"Type\", type(complex_num))\n",
    "print(\"Boolean value\", is_student, \"Type\", type(is_student))\n",
    "print(\"String\", greeting, \"Type\", type(greeting))"
   ]
  },
  {
   "cell_type": "code",
   "execution_count": 43,
   "id": "e2c8029c-3f55-4baf-b99b-8f0aa148170c",
   "metadata": {},
   "outputs": [
    {
     "name": "stdout",
     "output_type": "stream",
     "text": [
      "Data type of num_int = 991110 <class 'int'>\n",
      "Data type of num_str = 9876543456 <class 'str'>\n"
     ]
    }
   ],
   "source": [
    "num_int = 987654\n",
    "num_str = \"3456\"\n",
    "print(\"Data type of num_int =\", num_int + int(num_str), type(num_int))\n",
    "print(\"Data type of num_str =\", str(num_int) + num_str, type(num_str))"
   ]
  },
  {
   "cell_type": "code",
   "execution_count": 52,
   "id": "a1b9d20e-a869-4e7a-a4bc-acdb3e3ab0f8",
   "metadata": {},
   "outputs": [
    {
     "name": "stdout",
     "output_type": "stream",
     "text": [
      "Sum of int + float = 32.987654\n"
     ]
    }
   ],
   "source": [
    "sum_numbers = integer_num + float_num\n",
    "print(\"Sum of int + float =\", sum_numbers)"
   ]
  },
  {
   "cell_type": "code",
   "execution_count": 53,
   "id": "a1a39226-aec7-48da-9ab0-ecc7689c9fd0",
   "metadata": {},
   "outputs": [
    {
     "name": "stdout",
     "output_type": "stream",
     "text": [
      "Sum of int + float = 32.987654\n"
     ]
    }
   ],
   "source": [
    "integer_num = 26                # int\n",
    "float_num = 6.987654                 # float\n",
    "sum_numbers = integer_num + float_num\n",
    "print(\"Sum of int + float =\", sum_numbers)"
   ]
  },
  {
   "cell_type": "code",
   "execution_count": 54,
   "id": "88276752-f390-4483-9b96-d42a6bd89562",
   "metadata": {},
   "outputs": [
    {
     "name": "stdout",
     "output_type": "stream",
     "text": [
      "Sum of float + float = 13.975308\n"
     ]
    }
   ],
   "source": [
    "float_num = 6.987654               # float\n",
    "float_num = 6.987654               # float\n",
    "sum_numbers = float_num + float_num\n",
    "print(\"Sum of float + float =\", sum_numbers)"
   ]
  },
  {
   "cell_type": "code",
   "execution_count": 55,
   "id": "3e0ffcce-f06e-4cb6-b624-21b21fedaf5c",
   "metadata": {},
   "outputs": [
    {
     "name": "stdout",
     "output_type": "stream",
     "text": [
      "Tuple: (1, 2, 3) Type: <class 'tuple'>\n",
      "List: [10, 20, 30] Type: <class 'list'>\n",
      "Range: [0, 1, 2, 3, 4] Type: <class 'range'>\n",
      "Dictionary: {'math': 90, 'physics': 85, 'chemistry': 60} Type: <class 'dict'>\n",
      "Set: {1, 2, 3, 6789, 55, 45.9} Type: <class 'set'>\n"
     ]
    }
   ],
   "source": [
    "# Advanced types\n",
    "my_tuple = (1, 2, 3)                     # tuple - immutable sequence\n",
    "my_list = [10, 20, 30]                   # list - mutable sequence\n",
    "my_range = range(5)                      # range - sequence of numbers\n",
    "my_dict = {\"math\": 90, \"physics\": 85, \"chemistry\": 60}    # dict - key-value pairs\n",
    "my_set = {1, 2, 3, 3, 55,45.9, 6789}                     # set - unique unordered values\n",
    "\n",
    "# Display values and their types\n",
    "print(\"Tuple:\", my_tuple, \"Type:\", type(my_tuple))\n",
    "print(\"List:\", my_list, \"Type:\", type(my_list))\n",
    "print(\"Range:\", list(my_range), \"Type:\", type(my_range))\n",
    "print(\"Dictionary:\", my_dict, \"Type:\", type(my_dict))\n",
    "print(\"Set:\", my_set, \"Type:\", type(my_set))  # duplicates removed"
   ]
  },
  {
   "cell_type": "code",
   "execution_count": 64,
   "id": "f939a74f-3598-45ae-878c-51c8afb70168",
   "metadata": {},
   "outputs": [
    {
     "name": "stdout",
     "output_type": "stream",
     "text": [
      "Tuple item: 1\n",
      "Tuple item: 2\n",
      "Tuple item: 3\n"
     ]
    }
   ],
   "source": [
    "# Loops through each element in the tuple my_tuple and prints it.\n",
    "for item in my_tuple:\n",
    "    print(\"Tuple item:\", item)"
   ]
  },
  {
   "cell_type": "code",
   "execution_count": 65,
   "id": "cd34ec68-52c5-4e4a-aa87-f9bbb9ab5494",
   "metadata": {},
   "outputs": [
    {
     "name": "stdout",
     "output_type": "stream",
     "text": [
      "Updated list: [10, 20, 30, 40, 40]\n"
     ]
    }
   ],
   "source": [
    "#Adds the number 40 to the end of the list using .append().\n",
    "my_list.append(40)\n",
    "print(\"Updated list:\", my_list)"
   ]
  },
  {
   "cell_type": "code",
   "execution_count": 66,
   "id": "a6ca78b1-50c3-4716-9b9d-02f9962cffe3",
   "metadata": {},
   "outputs": [
    {
     "name": "stdout",
     "output_type": "stream",
     "text": [
      "Range number: 0\n",
      "Range number: 1\n",
      "Range number: 2\n",
      "Range number: 3\n",
      "Range number: 4\n"
     ]
    }
   ],
   "source": [
    "#Loops through numbers in the range (0 to 4).\n",
    "for num in my_range:\n",
    "    print(\"Range number:\", num)"
   ]
  },
  {
   "cell_type": "code",
   "execution_count": 68,
   "id": "ccca6bd5-f664-4e9e-9f97-8a0906697906",
   "metadata": {},
   "outputs": [
    {
     "name": "stdout",
     "output_type": "stream",
     "text": [
      "math score is 90\n",
      "physics score is 85\n",
      "chemistry score is 60\n"
     ]
    }
   ],
   "source": [
    "#Loops through key-value pairs in the dictionary using .items().\n",
    "for subject, score in my_dict.items():\n",
    "    print(subject, \"score is\", score)"
   ]
  },
  {
   "cell_type": "code",
   "execution_count": 69,
   "id": "4094b03a-5b9b-4485-98fc-beb0cbb3ef9a",
   "metadata": {},
   "outputs": [
    {
     "name": "stdout",
     "output_type": "stream",
     "text": [
      "Updated set: {1, 2, 3, 4, 6789, 55, 45.9}\n"
     ]
    }
   ],
   "source": [
    "#Adds the number 4 to the set using .add().\n",
    "my_set.add(4)\n",
    "print(\"Updated set:\", my_set)"
   ]
  },
  {
   "cell_type": "code",
   "execution_count": null,
   "id": "4f257c60-2ce4-47ba-ad8d-bc909be6372d",
   "metadata": {},
   "outputs": [],
   "source": [
    "Task 3"
   ]
  },
  {
   "cell_type": "code",
   "execution_count": 51,
   "id": "651a1ce3-84b3-49e0-9164-8bbda6f0cdff",
   "metadata": {},
   "outputs": [
    {
     "name": "stdout",
     "output_type": "stream",
     "text": [
      "Sum of num_int, num_str(int) and num_float(int) = 586 <class 'int'>\n",
      "Concatenated strings = 1234567.99[1, 2, 3] <class 'str'>\n",
      "String repeated 3 times = 456456456 <class 'str'>\n",
      "Integers repeated 3 times = 369 <class 'int'>\n",
      "List = [1, 2, 3] <class 'str'>\n",
      "List as string = [1, 2, 3] <class 'str'>\n",
      "List repeated 3 times = [1, 2, 3, 1, 2, 3, 1, 2, 3] <class 'list'>\n"
     ]
    }
   ],
   "source": [
    "# Initial variables\n",
    "num_int = 123\n",
    "num_str = \"456\"\n",
    "num_float = 7.99\n",
    "num_list = [1, 2, 3]\n",
    "\n",
    "# Integer + String converted to int + Float\n",
    "sum_result = num_int + int(num_str) + int(num_float)\n",
    "print(\"Sum of num_int, num_str(int) and num_float(int) =\", sum_result, type(sum_result))\n",
    "\n",
    "# Concatenate string representations of all variables\n",
    "concat_result = str(num_int) + num_str + str(num_float) + str(num_list)\n",
    "print(\"Concatenated strings =\", concat_result, type(concat_result))\n",
    "\n",
    "# Multiply integer by string (repetition)\n",
    "repeat_result = num_str * 3\n",
    "print(\"String repeated 3 times =\", repeat_result, type(repeat_result))\n",
    "\n",
    "# Multiply integer by int (repetition)\n",
    "repeat_result = num_int * 3\n",
    "print(\"Integers repeated 3 times =\", repeat_result, type(repeat_result))\n",
    "\n",
    "# Work with list\n",
    "print(\"List =\", list(num_list), type(list_str))\n",
    "\n",
    "# Work with list converted to string\n",
    "list_str = str(num_list)\n",
    "print(\"List as string =\", list_str, type(list_str))\n",
    "\n",
    "# Multiply integer by list (repetition)\n",
    "repeat_result = num_list * 3\n",
    "print(\"List repeated 3 times =\", repeat_result, type(repeat_result))"
   ]
  },
  {
   "cell_type": "code",
   "execution_count": 70,
   "id": "182d17c6-08f0-47bb-aa7e-c583e2dc43c5",
   "metadata": {},
   "outputs": [
    {
     "name": "stdout",
     "output_type": "stream",
     "text": [
      "Unique numbers: {3.14, 100, 5, 10, 42, 15, 58}\n",
      "Sum of numbers: 275.14\n",
      "Average value: 34.39\n",
      "Combined text: hello\n",
      "Data types in dataset:\n",
      " - 42 → int\n",
      " - 58 → str\n",
      " - 3.14 → float\n",
      " - [5, 10, 15] → list\n",
      " - hello → str\n",
      " - 100 → int\n",
      " - 42 → int\n"
     ]
    }
   ],
   "source": [
    "# Initial data collection\n",
    "data = [42, \"58\", 3.14, [5, 10, 15], \"hello\", 100, 42]\n",
    "\n",
    "# Separate numeric and text values\n",
    "numeric_values = []\n",
    "text_values = []\n",
    "\n",
    "for item in data:\n",
    "    if isinstance(item, (int, float)):\n",
    "        numeric_values.append(item)\n",
    "    elif isinstance(item, list):\n",
    "        numeric_values.extend(item)  # unpack list elements\n",
    "    elif isinstance(item, str):\n",
    "        if item.isdigit():\n",
    "            numeric_values.append(int(item))  # convert numeric string\n",
    "        else:\n",
    "            text_values.append(item)\n",
    "\n",
    "# Calculate statistics\n",
    "total_sum = sum(numeric_values)\n",
    "unique_numbers = set(numeric_values)\n",
    "average_value = total_sum / len(numeric_values)\n",
    "\n",
    "# Combine all text into one string\n",
    "combined_text = \" \".join(text_values)\n",
    "\n",
    "# Output results\n",
    "print(\"Unique numbers:\", unique_numbers)\n",
    "print(\"Sum of numbers:\", total_sum)\n",
    "print(\"Average value:\", round(average_value, 2))\n",
    "print(\"Combined text:\", combined_text)\n",
    "print(\"Data types in dataset:\")\n",
    "for val in data:\n",
    "    print(f\" - {val} → {type(val).__name__}\")\n"
   ]
  },
  {
   "cell_type": "code",
   "execution_count": 72,
   "id": "44d4294e-7dfd-4925-a32a-893ce56e5664",
   "metadata": {},
   "outputs": [
    {
     "name": "stdout",
     "output_type": "stream",
     "text": [
      "Tuple (1, 2, 3) Type tuple\n",
      "List [10, 20, 30] Type list\n",
      "Range [0, 1, 2, 3, 4] Type range\n",
      "Dictionary {'math': 90, 'physics': 85, 'chemistry': 60} Type dict\n",
      "Set {1, 2, 3, 6789, 55, 45.9} Type set\n",
      "\n",
      "--- Quick operations ---\n",
      "Sum of tuple → 6\n",
      "Extended list → [10, 20, 30, 1, 2, 3]\n",
      "Squares from range → [0, 1, 4, 9, 16]\n",
      "Highest score → math: 90\n",
      "Sorted set → [1, 2, 3, 45.9, 55, 6789]\n"
     ]
    }
   ],
   "source": [
    "# Advanced types\n",
    "my_tuple = (1, 2, 3)                     \n",
    "my_list = [10, 20, 30]                   \n",
    "my_range = range(5)                      \n",
    "my_dict = {\"math\": 90, \"physics\": 85, \"chemistry\": 60}    \n",
    "my_set = {1, 2, 3, 3, 55, 45.9, 6789}    \n",
    "\n",
    "# Display values and types\n",
    "print(\"Tuple\", my_tuple, \"Type\", type(my_tuple).__name__)\n",
    "print(\"List\", my_list, \"Type\", type(my_list).__name__)\n",
    "print(\"Range\", list(my_range), \"Type\", type(my_range).__name__)\n",
    "print(\"Dictionary\", my_dict, \"Type\", type(my_dict).__name__)\n",
    "print(\"Set\", my_set, \"Type\", type(my_set).__name__)\n",
    "\n",
    "print(\"\\n--- Quick operations ---\")\n",
    "\n",
    "# Tuple sum\n",
    "print(\"Sum of tuple →\", sum(my_tuple))\n",
    "\n",
    "# List extended with tuple elements\n",
    "my_list.extend(my_tuple)\n",
    "print(\"Extended list →\", my_list)\n",
    "\n",
    "# Squares from range\n",
    "range_squares = [x**2 for x in my_range]\n",
    "print(\"Squares from range →\", range_squares)\n",
    "\n",
    "# Highest score from dictionary\n",
    "subject, score = max(my_dict.items(), key=lambda item: item[1])\n",
    "print(f\"Highest score → {subject}: {score}\")\n",
    "\n",
    "# Sorted set\n",
    "print(\"Sorted set →\", sorted(my_set))\n"
   ]
  },
  {
   "cell_type": "markdown",
   "id": "a49f95bd-114d-4df8-8802-c6c900002c75",
   "metadata": {},
   "source": [
    "Task 3 by olyaa73"
   ]
  },
  {
   "cell_type": "code",
   "execution_count": 2,
   "id": "b0ea3016-b4f3-4ad9-8738-8a7179cba416",
   "metadata": {},
   "outputs": [
    {
     "name": "stdout",
     "output_type": "stream",
     "text": [
      "Initial Variables:\n",
      "Integer: 123, String: 456, Float: 8.38, List: [1, 2, 3]\n",
      "\n",
      "Sum of num_int, num_str (converted to int), and num_float (converted to int) = 587 <class 'int'>\n",
      "Concatenated strings = 1234568.38[1, 2, 3] <class 'str'>\n",
      "String repeated 3 times = 456456456 <class 'str'>\n",
      "Integers multiplied by 3 = 369 <class 'int'>\n",
      "\n",
      "Updated List with random integers added = [1, 2, 3, 7, 6, 6] <class 'list'>\n",
      "List as string = [1, 2, 3, 7, 6, 6] <class 'str'>\n",
      "Result of multiplying num_int by each element in the list = [123, 246, 369, 861, 738, 738]\n"
     ]
    },
    {
     "name": "stdin",
     "output_type": "stream",
     "text": [
      "\n",
      "Enter a new integer to see its operations:  29725\n"
     ]
    },
    {
     "name": "stdout",
     "output_type": "stream",
     "text": [
      "Sum of 123 and your number 29725 = 29848\n",
      "29725 is an odd number.\n",
      "\n",
      "Shuffled List = [7, 1, 6, 2, 6, 3]\n"
     ]
    }
   ],
   "source": [
    "# Importing the random module\n",
    "import random\n",
    "\n",
    "# Function to generate a random float within a specified range\n",
    "def generate_random_float(min_value=1.0, max_value=10.0):\n",
    "    return round(random.uniform(min_value, max_value), 2)\n",
    "\n",
    "# Initial variables\n",
    "num_int = 123\n",
    "num_str = \"456\"\n",
    "num_float = generate_random_float()\n",
    "num_list = [1, 2, 3]\n",
    "\n",
    "print(\"Initial Variables:\")\n",
    "print(f\"Integer: {num_int}, String: {num_str}, Float: {num_float}, List: {num_list}\")\n",
    "\n",
    "# Integer + String converted to int + Float\n",
    "sum_result = num_int + int(num_str) + int(num_float)\n",
    "print(\"\\nSum of num_int, num_str (converted to int), and num_float (converted to int) =\", sum_result, type(sum_result))\n",
    "\n",
    "# Concatenate string representations of all variables\n",
    "concat_result = str(num_int) + num_str + str(num_float) + str(num_list)\n",
    "print(\"Concatenated strings =\", concat_result, type(concat_result))\n",
    "\n",
    "# Multiply integer by string (repetition)\n",
    "repeat_result = num_str * 3\n",
    "print(\"String repeated 3 times =\", repeat_result, type(repeat_result))\n",
    "\n",
    "# Multiply integer by int (repetition)\n",
    "repeat_result_int = num_int * 3\n",
    "print(\"Integers multiplied by 3 =\", repeat_result_int, type(repeat_result_int))\n",
    "\n",
    "# Work with list: adding more elements based on user input\n",
    "num_list += [random.randint(4, 10) for _ in range(3)]  # Adding 3 random integers to the list\n",
    "print(\"\\nUpdated List with random integers added =\", num_list, type(num_list))\n",
    "\n",
    "# Convert list to string\n",
    "list_str = str(num_list)\n",
    "print(\"List as string =\", list_str, type(list_str))\n",
    "\n",
    "# Multiply integer by list elements (element-wise calculation)\n",
    "elementwise_results = [num_int * element for element in num_list]\n",
    "print(\"Result of multiplying num_int by each element in the list =\", elementwise_results)\n",
    "\n",
    "# User input for a new number\n",
    "try:\n",
    "    user_input = input(\"\\nEnter a new integer to see its operations: \")\n",
    "    user_number = int(user_input)\n",
    "\n",
    "    # Operations with user input\n",
    "    user_sum = num_int + user_number\n",
    "    print(f\"Sum of {num_int} and your number {user_number} = {user_sum}\")\n",
    "    \n",
    "    # Check if the user number is even or odd\n",
    "    if user_number % 2 == 0:\n",
    "        print(f\"{user_number} is an even number.\")\n",
    "    else:\n",
    "        print(f\"{user_number} is an odd number.\")\n",
    "\n",
    "except ValueError:\n",
    "    print(\"Invalid input! Please enter a valid integer.\")\n",
    "\n",
    "# Randomly shuffle the list and display it\n",
    "random.shuffle(num_list)\n",
    "print(\"\\nShuffled List =\", num_list)\n"
   ]
  },
  {
   "cell_type": "code",
   "execution_count": 3,
   "id": "67c7c120-39a2-4d1c-ac08-f14ce486b286",
   "metadata": {},
   "outputs": [
    {
     "name": "stdout",
     "output_type": "stream",
     "text": [
      "Statistics:\n",
      "Unique numbers: {3.14, 100, 5, 10, 42, 15, 58}\n",
      "Sum of numbers: 275.14\n",
      "Average value: 34.39\n",
      "Combined text: hello\n",
      "\n",
      "Here's a fun message for you:\n",
      "Do you know why scientists don't trust atoms? They make up everything!\n",
      "\n",
      "Data types in the dataset:\n",
      " - 42 → int\n",
      " - 58 → str\n",
      " - 3.14 → float\n",
      " - [5, 10, 15] → list\n",
      " - hello → str\n",
      " - 100 → int\n",
      " - 42 → int\n"
     ]
    }
   ],
   "source": [
    "import random\n",
    "\n",
    "# Initial data collection\n",
    "data = [42, \"58\", 3.14, [5, 10, 15], \"hello\", 100, 42]\n",
    "\n",
    "# Separate numeric and text values\n",
    "numeric_values = []\n",
    "text_values = []\n",
    "\n",
    "for item in data:\n",
    "    if isinstance(item, (int, float)):\n",
    "        numeric_values.append(item)\n",
    "    elif isinstance(item, list):\n",
    "        numeric_values.extend(item)  # unpack list elements\n",
    "    elif isinstance(item, str):\n",
    "        if item.isdigit():\n",
    "            numeric_values.append(int(item))  # convert numeric string\n",
    "        else:\n",
    "            text_values.append(item)\n",
    "\n",
    "# Calculate statistics\n",
    "total_sum = sum(numeric_values)\n",
    "unique_numbers = set(numeric_values)\n",
    "average_value = total_sum / len(numeric_values) if numeric_values else 0\n",
    "\n",
    "# Combine all text into one string\n",
    "combined_text = \" \".join(text_values)\n",
    "\n",
    "# Random fun messages\n",
    "fun_messages = [\n",
    "    \"Did you know? The number 42 is the answer to life, the universe, and everything! Read more...\",\n",
    "    \"Fun fact: Pi (3.14) is a ratio of a circle's circumference to its diameter and you didn't finish reading this sentence.\",\n",
    "    \"It's a great day to try ioga!\",\n",
    "    \"Remember: Coding is like humor. If you have to explain it, it’s bad.\",\n",
    "    \"Do you know why scientists don't trust atoms? They make up everything!\"\n",
    "]\n",
    "\n",
    "# Output results\n",
    "print(\"Statistics:\")\n",
    "print(\"Unique numbers:\", unique_numbers)\n",
    "print(\"Sum of numbers:\", total_sum)\n",
    "print(\"Average value:\", round(average_value, 2))\n",
    "print(\"Combined text:\", combined_text)\n",
    "print(\"\\nHere's a fun message for you:\")\n",
    "print(random.choice(fun_messages))\n",
    "print(\"\\nData types in the dataset:\")\n",
    "for val in data:\n",
    "    print(f\" - {val} → {type(val).__name__}\")"
   ]
  },
  {
   "cell_type": "code",
   "execution_count": null,
   "id": "8d3f3c70-85ac-494d-a3aa-db0dc6c48994",
   "metadata": {},
   "outputs": [],
   "source": []
  }
 ],
 "metadata": {
  "kernelspec": {
   "display_name": "Python 3 (ipykernel)",
   "language": "python",
   "name": "python3"
  },
  "language_info": {
   "codemirror_mode": {
    "name": "ipython",
    "version": 3
   },
   "file_extension": ".py",
   "mimetype": "text/x-python",
   "name": "python",
   "nbconvert_exporter": "python",
   "pygments_lexer": "ipython3",
   "version": "3.12.7"
  }
 },
 "nbformat": 4,
 "nbformat_minor": 5
}
